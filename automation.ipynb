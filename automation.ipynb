{
 "cells": [
  {
   "cell_type": "code",
   "execution_count": 1,
   "metadata": {},
   "outputs": [],
   "source": [
    "import selenium\n",
    "from selenium.webdriver.common.keys import Keys\n",
    "from selenium.webdriver.common.by import By\n",
    "import time\n",
    "from selenium import webdriver\n",
    "import pandas as pd\n",
    "import csv\n",
    "\n",
    "from selenium.webdriver.support.ui import WebDriverWait\n",
    "from selenium.webdriver.support import expected_conditions as EC\n",
    "\n",
    "import os\n",
    "from selenium.webdriver.common.by import By\n",
    "from selenium.webdriver.chrome.service import Service\n",
    "from webdriver_manager.chrome import ChromeDriverManager\n",
    "from selenium.webdriver.support.ui import Select\n",
    "from selenium.webdriver.firefox.options import Options"
   ]
  },
  {
   "cell_type": "code",
   "execution_count": 2,
   "metadata": {},
   "outputs": [],
   "source": [
    "options = Options()\n",
    "options.headless = False\n",
    "\n",
    "driver = webdriver.Firefox(options=options)\n",
    "time.sleep(3)"
   ]
  },
  {
   "cell_type": "code",
   "execution_count": 3,
   "metadata": {},
   "outputs": [],
   "source": [
    "driver.get('https://proscheduler.prometric.com/scheduling/searchAvailability')"
   ]
  },
  {
   "cell_type": "code",
   "execution_count": 4,
   "metadata": {},
   "outputs": [],
   "source": [
    "# select dropdown element\n",
    "select = Select(driver.find_element(By.ID,'test_sponsor'))"
   ]
  },
  {
   "cell_type": "code",
   "execution_count": 5,
   "metadata": {},
   "outputs": [],
   "source": [
    "# select by visible text\n",
    "select.select_by_visible_text('American Society of Mechanical Engineers')"
   ]
  },
  {
   "cell_type": "code",
   "execution_count": 6,
   "metadata": {},
   "outputs": [],
   "source": [
    "# select dropdown element\n",
    "select = Select(driver.find_element(By.ID,'testProgram'))"
   ]
  },
  {
   "cell_type": "code",
   "execution_count": 7,
   "metadata": {},
   "outputs": [],
   "source": [
    "# select by visible text\n",
    "select.select_by_visible_text('American Society of Mechanical Engineers')"
   ]
  },
  {
   "cell_type": "code",
   "execution_count": 8,
   "metadata": {},
   "outputs": [],
   "source": [
    "# select dropdown element\n",
    "select = Select(driver.find_element(By.ID,'testSelector'))"
   ]
  },
  {
   "cell_type": "code",
   "execution_count": 9,
   "metadata": {},
   "outputs": [],
   "source": [
    "# select by visible text\n",
    "select.select_by_visible_text('ASME NON DESTRUCTIVE EXAMINATION')"
   ]
  },
  {
   "cell_type": "code",
   "execution_count": 10,
   "metadata": {},
   "outputs": [],
   "source": [
    "driver.find_element(By.ID,'nextBtn').click()"
   ]
  },
  {
   "attachments": {},
   "cell_type": "markdown",
   "metadata": {},
   "source": [
    "You must select an end date that is within 2 weeks of the selected start date. MM-DD-YYYY"
   ]
  },
  {
   "cell_type": "code",
   "execution_count": 11,
   "metadata": {},
   "outputs": [],
   "source": [
    "driver.find_element(By.XPATH,'//*[@id=\"google-maps\"]/div/app-geo-locator/input').send_keys(\"54840\")\n",
    "driver.find_element(By.XPATH,'/html/body/app-root/app-scheduling/div/div[1]/app-find-availability-location/div/app-location-selector/div/div[3]/div[1]/label/datepicker-demo/div/input').send_keys(\"12/21/2022\")\n",
    "time.sleep(3)\n",
    "driver.find_element(By.XPATH,'/html/body/app-root/app-scheduling/div/div[1]/app-find-availability-location/div/app-location-selector/div/div[3]/div[2]/label[1]/datepicker-demo/div/input').clear()\n",
    "driver.find_element(By.XPATH,'/html/body/app-root/app-scheduling/div/div[1]/app-find-availability-location/div/app-location-selector/div/div[3]/div[2]/label[1]/datepicker-demo/div/input').send_keys(\"12/28/2022\")\n",
    "\n"
   ]
  },
  {
   "cell_type": "code",
   "execution_count": 13,
   "metadata": {},
   "outputs": [],
   "source": [
    "driver.find_element(By.ID,'nextBtn').click()"
   ]
  },
  {
   "attachments": {},
   "cell_type": "markdown",
   "metadata": {},
   "source": [
    "User try except"
   ]
  },
  {
   "cell_type": "code",
   "execution_count": 16,
   "metadata": {},
   "outputs": [
    {
     "ename": "NoSuchElementException",
     "evalue": "Message: no such element: Unable to locate element: {\"method\":\"xpath\",\"selector\":\"//*[@id=\"content-wrapper\"]/div[3]/div[1]/div/h2\"}\n  (Session info: chrome=108.0.5359.125)\nStacktrace:\nBacktrace:\n\t(No symbol) [0x0080F243]\n\t(No symbol) [0x00797FD1]\n\t(No symbol) [0x0068D04D]\n\t(No symbol) [0x006BC0B0]\n\t(No symbol) [0x006BC22B]\n\t(No symbol) [0x006EE612]\n\t(No symbol) [0x006D85D4]\n\t(No symbol) [0x006EC9EB]\n\t(No symbol) [0x006D8386]\n\t(No symbol) [0x006B163C]\n\t(No symbol) [0x006B269D]\n\tGetHandleVerifier [0x00AA9A22+2655074]\n\tGetHandleVerifier [0x00A9CA24+2601828]\n\tGetHandleVerifier [0x008B8C0A+619850]\n\tGetHandleVerifier [0x008B7830+614768]\n\t(No symbol) [0x007A05FC]\n\t(No symbol) [0x007A5968]\n\t(No symbol) [0x007A5A55]\n\t(No symbol) [0x007B051B]\n\tBaseThreadInitThunk [0x75FB7D69+25]\n\tRtlInitializeExceptionChain [0x7736BB9B+107]\n\tRtlClearBits [0x7736BB1F+191]\n",
     "output_type": "error",
     "traceback": [
      "\u001b[1;31m---------------------------------------------------------------------------\u001b[0m",
      "\u001b[1;31mNoSuchElementException\u001b[0m                    Traceback (most recent call last)",
      "Cell \u001b[1;32mIn[16], line 1\u001b[0m\n\u001b[1;32m----> 1\u001b[0m \u001b[39mif\u001b[39;00m driver\u001b[39m.\u001b[39;49mfind_element(By\u001b[39m.\u001b[39;49mXPATH,\u001b[39m'\u001b[39;49m\u001b[39m//*[@id=\u001b[39;49m\u001b[39m\"\u001b[39;49m\u001b[39mcontent-wrapper\u001b[39;49m\u001b[39m\"\u001b[39;49m\u001b[39m]/div[3]/div[1]/div/h2\u001b[39;49m\u001b[39m'\u001b[39;49m)\u001b[39m.\u001b[39mget_attribute(\u001b[39m\"\u001b[39m\u001b[39minnerHTML\u001b[39m\u001b[39m\"\u001b[39m) \u001b[39m==\u001b[39m \u001b[39m\"\u001b[39m\u001b[39mNo availability found. Please select a new location or date range above.\u001b[39m\u001b[39m\"\u001b[39m:\n\u001b[0;32m      2\u001b[0m     \u001b[39mprint\u001b[39m(\u001b[39m\"\u001b[39m\u001b[39mBS khtam ta ta bye bye finish\u001b[39m\u001b[39m\"\u001b[39m)\n\u001b[0;32m      3\u001b[0m \u001b[39melse\u001b[39;00m:\n",
      "File \u001b[1;32md:\\My-Work\\Pro-Scheduler-Automation\\env\\lib\\site-packages\\selenium\\webdriver\\remote\\webdriver.py:861\u001b[0m, in \u001b[0;36mWebDriver.find_element\u001b[1;34m(self, by, value)\u001b[0m\n\u001b[0;32m    858\u001b[0m     by \u001b[39m=\u001b[39m By\u001b[39m.\u001b[39mCSS_SELECTOR\n\u001b[0;32m    859\u001b[0m     value \u001b[39m=\u001b[39m \u001b[39m'\u001b[39m\u001b[39m[name=\u001b[39m\u001b[39m\"\u001b[39m\u001b[39m%s\u001b[39;00m\u001b[39m\"\u001b[39m\u001b[39m]\u001b[39m\u001b[39m'\u001b[39m \u001b[39m%\u001b[39m value\n\u001b[1;32m--> 861\u001b[0m \u001b[39mreturn\u001b[39;00m \u001b[39mself\u001b[39;49m\u001b[39m.\u001b[39;49mexecute(Command\u001b[39m.\u001b[39;49mFIND_ELEMENT, {\u001b[39m\"\u001b[39;49m\u001b[39musing\u001b[39;49m\u001b[39m\"\u001b[39;49m: by, \u001b[39m\"\u001b[39;49m\u001b[39mvalue\u001b[39;49m\u001b[39m\"\u001b[39;49m: value})[\u001b[39m\"\u001b[39m\u001b[39mvalue\u001b[39m\u001b[39m\"\u001b[39m]\n",
      "File \u001b[1;32md:\\My-Work\\Pro-Scheduler-Automation\\env\\lib\\site-packages\\selenium\\webdriver\\remote\\webdriver.py:444\u001b[0m, in \u001b[0;36mWebDriver.execute\u001b[1;34m(self, driver_command, params)\u001b[0m\n\u001b[0;32m    442\u001b[0m response \u001b[39m=\u001b[39m \u001b[39mself\u001b[39m\u001b[39m.\u001b[39mcommand_executor\u001b[39m.\u001b[39mexecute(driver_command, params)\n\u001b[0;32m    443\u001b[0m \u001b[39mif\u001b[39;00m response:\n\u001b[1;32m--> 444\u001b[0m     \u001b[39mself\u001b[39;49m\u001b[39m.\u001b[39;49merror_handler\u001b[39m.\u001b[39;49mcheck_response(response)\n\u001b[0;32m    445\u001b[0m     response[\u001b[39m\"\u001b[39m\u001b[39mvalue\u001b[39m\u001b[39m\"\u001b[39m] \u001b[39m=\u001b[39m \u001b[39mself\u001b[39m\u001b[39m.\u001b[39m_unwrap_value(response\u001b[39m.\u001b[39mget(\u001b[39m\"\u001b[39m\u001b[39mvalue\u001b[39m\u001b[39m\"\u001b[39m, \u001b[39mNone\u001b[39;00m))\n\u001b[0;32m    446\u001b[0m     \u001b[39mreturn\u001b[39;00m response\n",
      "File \u001b[1;32md:\\My-Work\\Pro-Scheduler-Automation\\env\\lib\\site-packages\\selenium\\webdriver\\remote\\errorhandler.py:249\u001b[0m, in \u001b[0;36mErrorHandler.check_response\u001b[1;34m(self, response)\u001b[0m\n\u001b[0;32m    247\u001b[0m         alert_text \u001b[39m=\u001b[39m value[\u001b[39m\"\u001b[39m\u001b[39malert\u001b[39m\u001b[39m\"\u001b[39m]\u001b[39m.\u001b[39mget(\u001b[39m\"\u001b[39m\u001b[39mtext\u001b[39m\u001b[39m\"\u001b[39m)\n\u001b[0;32m    248\u001b[0m     \u001b[39mraise\u001b[39;00m exception_class(message, screen, stacktrace, alert_text)  \u001b[39m# type: ignore[call-arg]  # mypy is not smart enough here\u001b[39;00m\n\u001b[1;32m--> 249\u001b[0m \u001b[39mraise\u001b[39;00m exception_class(message, screen, stacktrace)\n",
      "\u001b[1;31mNoSuchElementException\u001b[0m: Message: no such element: Unable to locate element: {\"method\":\"xpath\",\"selector\":\"//*[@id=\"content-wrapper\"]/div[3]/div[1]/div/h2\"}\n  (Session info: chrome=108.0.5359.125)\nStacktrace:\nBacktrace:\n\t(No symbol) [0x0080F243]\n\t(No symbol) [0x00797FD1]\n\t(No symbol) [0x0068D04D]\n\t(No symbol) [0x006BC0B0]\n\t(No symbol) [0x006BC22B]\n\t(No symbol) [0x006EE612]\n\t(No symbol) [0x006D85D4]\n\t(No symbol) [0x006EC9EB]\n\t(No symbol) [0x006D8386]\n\t(No symbol) [0x006B163C]\n\t(No symbol) [0x006B269D]\n\tGetHandleVerifier [0x00AA9A22+2655074]\n\tGetHandleVerifier [0x00A9CA24+2601828]\n\tGetHandleVerifier [0x008B8C0A+619850]\n\tGetHandleVerifier [0x008B7830+614768]\n\t(No symbol) [0x007A05FC]\n\t(No symbol) [0x007A5968]\n\t(No symbol) [0x007A5A55]\n\t(No symbol) [0x007B051B]\n\tBaseThreadInitThunk [0x75FB7D69+25]\n\tRtlInitializeExceptionChain [0x7736BB9B+107]\n\tRtlClearBits [0x7736BB1F+191]\n"
     ]
    }
   ],
   "source": [
    "if driver.find_element(By.XPATH,'//*[@id=\"content-wrapper\"]/div[3]/div[1]/div/h2').get_attribute(\"innerHTML\") == \"No availability found. Please select a new location or date range above.\":\n",
    "    print(\"BS khtam ta ta bye bye finish\")\n",
    "else:\n",
    "    print(\"Necahy wala portion\")"
   ]
  },
  {
   "cell_type": "code",
   "execution_count": 14,
   "metadata": {},
   "outputs": [],
   "source": [
    "aTagsInLi = driver.find_element(By.XPATH,'//*[@id=\"content-wrapper\"]/div[3]/div[2]/div')"
   ]
  },
  {
   "cell_type": "code",
   "execution_count": 15,
   "metadata": {},
   "outputs": [],
   "source": [
    "list = aTagsInLi.find_elements(By.TAG_NAME,'fieldset')"
   ]
  },
  {
   "cell_type": "code",
   "execution_count": 19,
   "metadata": {},
   "outputs": [
    {
     "name": "stdout",
     "output_type": "stream",
     "text": [
      "MN, Bloomington - 0065 : Minneapolis - Bloomington, Northland Center USA\n",
      "4 Button\n",
      "DEC 22\n",
      "1:45 PM\n",
      "DEC 27\n",
      "DEC 28\n",
      "8:30 AM\n",
      "DEC 29\n",
      "2:30 PM\n",
      "MN, Bloomington - 0064 : Minneapolis - Bloomington, Northland Center USA\n",
      "1 Button\n",
      "DEC 27\n",
      "8:00 AM\n",
      "MN, DULUTH - 0087 : Duluth - London Road, 2200 London Road USA\n",
      "1 Button\n",
      "DEC 31\n",
      "8:00 AM\n",
      "MN, ROCHESTER - 5404 : Rochester - 2nd Street SW, 2001 2ND STREET SW USA\n",
      "1 Button\n",
      "DEC 31\n",
      "12:30 PM\n"
     ]
    }
   ],
   "source": [
    "info = []\n",
    "for l in list:\n",
    "    temp_info = []\n",
    "    print(l.find_element(By.TAG_NAME,'h2').text)\n",
    "    temp_info.append(l.find_element(By.TAG_NAME,'h2').text)\n",
    "    box_div = l.find_elements(By.TAG_NAME,'div')[7]\n",
    "    list_btn = box_div.find_elements(By.XPATH,'div[@role = \"button\"]')\n",
    "    print(len(list_btn),\"Button\")\n",
    "    date_list = []\n",
    "    for btn in list_btn:\n",
    "        date = btn.text\n",
    "        print(date.replace(\"\\n\", \" \"))\n",
    "        date_list.append(date.replace(\"\\n\", \" \"))\n",
    "        driver.execute_script(\"arguments[0].scrollIntoView(true);\", btn)\n",
    "        btn.click()\n",
    "        time.sleep(3)\n",
    "        try:\n",
    "            time_div = driver.find_element(By.TAG_NAME,'app-slot-card-detail')\n",
    "            time_list = time_div.find_elements(By.CLASS_NAME,\"testCentreTimeSlot\")\n",
    "            info_time_list = []\n",
    "            for t in time_list:\n",
    "                print(t.text)\n",
    "                info_time_list.append(t.text)\n",
    "            date_list.append(info_time_list)\n",
    "        except:\n",
    "            info_time_list = []\n",
    "            info_time_list.append(\"No seat available\")\n",
    "            date_list.append(info_time_list)\n",
    "    temp_info.append(date_list)\n",
    "    info.append(temp_info)\n"
   ]
  },
  {
   "cell_type": "code",
   "execution_count": 20,
   "metadata": {},
   "outputs": [
    {
     "name": "stdout",
     "output_type": "stream",
     "text": [
      "[['MN, Bloomington - 0065 : Minneapolis - Bloomington, Northland Center USA', ['DEC 22', ['1:45 PM'], 'DEC 27', ['No seat available'], 'DEC 28', ['8:30 AM'], 'DEC 29', ['2:30 PM']]], ['MN, Bloomington - 0064 : Minneapolis - Bloomington, Northland Center USA', ['DEC 27', ['8:00 AM']]], ['MN, DULUTH - 0087 : Duluth - London Road, 2200 London Road USA', ['DEC 31', ['8:00 AM']]], ['MN, ROCHESTER - 5404 : Rochester - 2nd Street SW, 2001 2ND STREET SW USA', ['DEC 31', ['12:30 PM']]]]\n"
     ]
    }
   ],
   "source": [
    "print(info)"
   ]
  },
  {
   "cell_type": "code",
   "execution_count": 26,
   "metadata": {},
   "outputs": [
    {
     "name": "stdout",
     "output_type": "stream",
     "text": [
      "['MN, Bloomington - 0065 : Minneapolis - Bloomington, Northland Center USA', ['DEC 22', ['1:45 PM'], 'DEC 27', ['No seat available'], 'DEC 28', ['8:30 AM'], 'DEC 29', ['2:30 PM']]]-->['MN, Bloomington - 0064 : Minneapolis - Bloomington, Northland Center USA', ['DEC 27', ['8:00 AM']]]-->['MN, DULUTH - 0087 : Duluth - London Road, 2200 London Road USA', ['DEC 31', ['8:00 AM']]]-->['MN, ROCHESTER - 5404 : Rochester - 2nd Street SW, 2001 2ND STREET SW USA', ['DEC 31', ['12:30 PM']]]\n"
     ]
    }
   ],
   "source": [
    "chk = \"-->\".join(map(str,info))\n",
    "\n",
    "print(chk)"
   ]
  },
  {
   "cell_type": "code",
   "execution_count": 25,
   "metadata": {},
   "outputs": [
    {
     "name": "stdout",
     "output_type": "stream",
     "text": [
      "MN, Bloomington - 0065 : Minneapolis - Bloomington, Northland Center USA\n",
      "DEC 22\n",
      "['1:45 PM']\n",
      "DEC 27\n",
      "['No seat available']\n",
      "DEC 28\n",
      "['8:30 AM']\n",
      "DEC 29\n",
      "['2:30 PM']\n",
      "MN, Bloomington - 0064 : Minneapolis - Bloomington, Northland Center USA\n",
      "DEC 27\n",
      "['8:00 AM']\n",
      "MN, DULUTH - 0087 : Duluth - London Road, 2200 London Road USA\n",
      "DEC 31\n",
      "['8:00 AM']\n",
      "MN, ROCHESTER - 5404 : Rochester - 2nd Street SW, 2001 2ND STREET SW USA\n",
      "DEC 31\n",
      "['12:30 PM']\n"
     ]
    }
   ],
   "source": [
    "for i in info:\n",
    "    print(i[0])\n",
    "    for date in i[1]:\n",
    "        print(date)"
   ]
  }
 ],
 "metadata": {
  "kernelspec": {
   "display_name": "env",
   "language": "python",
   "name": "python3"
  },
  "language_info": {
   "codemirror_mode": {
    "name": "ipython",
    "version": 3
   },
   "file_extension": ".py",
   "mimetype": "text/x-python",
   "name": "python",
   "nbconvert_exporter": "python",
   "pygments_lexer": "ipython3",
   "version": "3.8.0"
  },
  "orig_nbformat": 4,
  "vscode": {
   "interpreter": {
    "hash": "f5778540e1b5539859a7c3f6adfe789b601222ecf202c5183cd6691feb73daba"
   }
  }
 },
 "nbformat": 4,
 "nbformat_minor": 2
}
