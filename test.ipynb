{
 "cells": [
  {
   "cell_type": "code",
   "execution_count": 13,
   "metadata": {},
   "outputs": [],
   "source": [
    "import datetime\n",
    "\n",
    "date = \"12/25/2022\"\n",
    "\n",
    "date2 = \"1/28/2023\""
   ]
  },
  {
   "cell_type": "code",
   "execution_count": 14,
   "metadata": {},
   "outputs": [],
   "source": [
    "date_time_obj_1 = datetime.datetime.strptime(date, '%m/%d/%Y')\n",
    "date_time_obj_2 = datetime.datetime.strptime(date2, '%m/%d/%Y')"
   ]
  },
  {
   "cell_type": "code",
   "execution_count": 15,
   "metadata": {},
   "outputs": [
    {
     "name": "stdout",
     "output_type": "stream",
     "text": [
      "2023-01-08 00:00:00\n",
      "2022-12-25 00:00:00 2023-01-28 00:00:00\n"
     ]
    }
   ],
   "source": [
    "if (date_time_obj_2 - date_time_obj_1).days > 14:\n",
    "    print(date_time_obj_1 + datetime.timedelta(days=13))\n",
    "print(date_time_obj_1,date_time_obj_2)"
   ]
  }
 ],
 "metadata": {
  "kernelspec": {
   "display_name": "env",
   "language": "python",
   "name": "python3"
  },
  "language_info": {
   "codemirror_mode": {
    "name": "ipython",
    "version": 3
   },
   "file_extension": ".py",
   "mimetype": "text/x-python",
   "name": "python",
   "nbconvert_exporter": "python",
   "pygments_lexer": "ipython3",
   "version": "3.8.0"
  },
  "orig_nbformat": 4,
  "vscode": {
   "interpreter": {
    "hash": "7b0f345bce4097fef9469e0bdbfa8d15b1046a98966756a26d4b0d34c9a4a180"
   }
  }
 },
 "nbformat": 4,
 "nbformat_minor": 2
}
