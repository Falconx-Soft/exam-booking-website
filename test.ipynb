{
 "cells": [
  {
   "cell_type": "code",
   "execution_count": 1,
   "metadata": {},
   "outputs": [],
   "source": [
    "import datetime"
   ]
  },
  {
   "cell_type": "code",
   "execution_count": 4,
   "metadata": {},
   "outputs": [
    {
     "name": "stdout",
     "output_type": "stream",
     "text": [
      "Today:  2023-02-08 lastedate:  2023-01-31 00:00:00\n"
     ]
    }
   ],
   "source": [
    "date1 = \"12/29/2022\"\n",
    "date2 = \"01/31/2023\"\n",
    "\n",
    "date_time_obj_2 = datetime.datetime.strptime(date2, '%m/%d/%Y')\n",
    "today = datetime.datetime.today()\n",
    "\n",
    "print(\"Today: \",today.date(), \"lastedate: \",date_time_obj_2)\n"
   ]
  },
  {
   "cell_type": "code",
   "execution_count": 4,
   "metadata": {},
   "outputs": [
    {
     "name": "stdout",
     "output_type": "stream",
     "text": [
      "Today:  2023-01-02\n",
      "if -5\n",
      "5 2023-01-03 2023-01-15\n"
     ]
    }
   ],
   "source": [
    "date1 = \"12/29/2022\"\n",
    "date2 = \"01/31/2023\"\n",
    "\n",
    "date_time_obj_1 = datetime.datetime.strptime(date1, '%m/%d/%Y')\n",
    "date_time_obj_2 = datetime.datetime.strptime(date2, '%m/%d/%Y')\n",
    "today = datetime.datetime.today()\n",
    "\n",
    "print(\"Today: \",today.date())\n",
    "\n",
    "if((date_time_obj_2 - today).days > 0):\n",
    "    if((date_time_obj_1 - today).days > 0):\n",
    "        print(1,\"if\",(date_time_obj_1 - today).days)\n",
    "        if (date_time_obj_2 - date_time_obj_1).days > 14:\n",
    "            print(2,date_time_obj_1.date(),\"--\",(date_time_obj_1 + datetime.timedelta(days=13)).date())\n",
    "        else:\n",
    "            print(3,date_time_obj_1.date(),\"--\",date_time_obj_2.date())\n",
    "    else:\n",
    "        print(\"if\",(date_time_obj_1 - today).days)\n",
    "        if (date_time_obj_2 - date_time_obj_1).days > 14:\n",
    "            if (date_time_obj_2 - today).days > 14:\n",
    "                print(5,(today + datetime.timedelta(days=1)).date(),(today + datetime.timedelta(days=13)).date())\n",
    "            else:\n",
    "                print(6,(today + datetime.timedelta(days=1)).date(),date_time_obj_2.date())\n",
    "        else:\n",
    "            print(7,(today + datetime.timedelta(days=1)).date(),date_time_obj_2.date())"
   ]
  }
 ],
 "metadata": {
  "kernelspec": {
   "display_name": "Python 3",
   "language": "python",
   "name": "python3"
  },
  "language_info": {
   "codemirror_mode": {
    "name": "ipython",
    "version": 3
   },
   "file_extension": ".py",
   "mimetype": "text/x-python",
   "name": "python",
   "nbconvert_exporter": "python",
   "pygments_lexer": "ipython3",
   "version": "3.9.0"
  },
  "orig_nbformat": 4,
  "vscode": {
   "interpreter": {
    "hash": "f850896697a9ccbdcbe46277d2d8b2c544e7fd2ddeab0a9096a8754af847c5fb"
   }
  }
 },
 "nbformat": 4,
 "nbformat_minor": 2
}
