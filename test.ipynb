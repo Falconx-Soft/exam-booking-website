{
 "cells": [
  {
   "cell_type": "code",
   "execution_count": 25,
   "metadata": {},
   "outputs": [],
   "source": [
    "import datetime"
   ]
  },
  {
   "cell_type": "code",
   "execution_count": 45,
   "metadata": {},
   "outputs": [
    {
     "name": "stdout",
     "output_type": "stream",
     "text": [
      "Today:  2022-12-26\n",
      "if -7\n",
      "7 2022-12-27 2022-12-29\n"
     ]
    }
   ],
   "source": [
    "date1 = \"12/20/2022\"\n",
    "date2 = \"12/29/2022\"\n",
    "\n",
    "date_time_obj_1 = datetime.datetime.strptime(date1, '%m/%d/%Y')\n",
    "date_time_obj_2 = datetime.datetime.strptime(date2, '%m/%d/%Y')\n",
    "today = datetime.datetime.today()\n",
    "\n",
    "print(\"Today: \",today.date())\n",
    "\n",
    "if((date_time_obj_2 - today).days > 0):\n",
    "    if((date_time_obj_1 - today).days > 0):\n",
    "        print(1,\"if\",(date_time_obj_1 - today).days)\n",
    "        if (date_time_obj_2 - date_time_obj_1).days > 14:\n",
    "            print(2,date_time_obj_1.date(),\"--\",(date_time_obj_1 + datetime.timedelta(days=13)).date())\n",
    "        else:\n",
    "            print(3,date_time_obj_1.date(),\"--\",date_time_obj_2.date())\n",
    "    else:\n",
    "        print(\"if\",(date_time_obj_1 - today).days)\n",
    "        if (date_time_obj_2 - date_time_obj_1).days > 14:\n",
    "            if (date_time_obj_2 - today).days > 14:\n",
    "                print(5,(today + datetime.timedelta(days=1)).date(),(today + datetime.timedelta(days=13)).date())\n",
    "            else:\n",
    "                print(6,(today + datetime.timedelta(days=1)).date(),date_time_obj_2.date())\n",
    "        else:\n",
    "            print(7,(today + datetime.timedelta(days=1)).date(),date_time_obj_2.date())"
   ]
  }
 ],
 "metadata": {
  "kernelspec": {
   "display_name": "env",
   "language": "python",
   "name": "python3"
  },
  "language_info": {
   "codemirror_mode": {
    "name": "ipython",
    "version": 3
   },
   "file_extension": ".py",
   "mimetype": "text/x-python",
   "name": "python",
   "nbconvert_exporter": "python",
   "pygments_lexer": "ipython3",
   "version": "3.8.0"
  },
  "orig_nbformat": 4,
  "vscode": {
   "interpreter": {
    "hash": "7b0f345bce4097fef9469e0bdbfa8d15b1046a98966756a26d4b0d34c9a4a180"
   }
  }
 },
 "nbformat": 4,
 "nbformat_minor": 2
}
